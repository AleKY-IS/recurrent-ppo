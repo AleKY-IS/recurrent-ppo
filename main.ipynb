{
 "cells": [
  {
   "cell_type": "code",
   "execution_count": null,
   "metadata": {},
   "outputs": [],
   "source": [
    "# !lscpu | grep 'Model name'"
   ]
  },
  {
   "cell_type": "code",
   "execution_count": null,
   "metadata": {},
   "outputs": [],
   "source": [
    "# !git clone https://github.com/datvodinh10/recurrent-ppo.git"
   ]
  },
  {
   "cell_type": "code",
   "execution_count": null,
   "metadata": {},
   "outputs": [],
   "source": [
    "import torch\n",
    "import torch.nn as nn"
   ]
  },
  {
   "cell_type": "code",
   "execution_count": null,
   "metadata": {},
   "outputs": [],
   "source": [
    "%cd recurrent-ppo/ENV"
   ]
  },
  {
   "cell_type": "code",
   "execution_count": null,
   "metadata": {},
   "outputs": [],
   "source": [
    "from model.trainer import *\n",
    "import env\n"
   ]
  },
  {
   "cell_type": "code",
   "execution_count": null,
   "metadata": {},
   "outputs": [],
   "source": [
    "game_name = \"MachiKoro\"\n",
    "env.make(game_name)\n",
    "writer_path = f\"/content/runs/{game_name}/\""
   ]
  },
  {
   "cell_type": "code",
   "execution_count": null,
   "metadata": {},
   "outputs": [],
   "source": [
    "env.getActionSize()"
   ]
  },
  {
   "cell_type": "code",
   "execution_count": null,
   "metadata": {},
   "outputs": [],
   "source": [
    "max_eps_length = 200"
   ]
  },
  {
   "cell_type": "code",
   "execution_count": null,
   "metadata": {},
   "outputs": [],
   "source": [
    "config = {\n",
    "    \"critic_coef\": 1,\n",
    "    \"entropy_coef\": 0,\n",
    "    \"num_epochs\": 3,\n",
    "    \"max_eps_length\":max_eps_length,\n",
    "    \"seq_length\":8,\n",
    "    \"hidden_size\":128,\n",
    "    \"lr\": 2.5e-4,\n",
    "    \"num_game_per_batch\":128,\n",
    "    \"gamma\":0.99,\n",
    "    \"gae_lambda\":0.95,\n",
    "    \"policy_kl_range\":0.0008,\n",
    "    \"policy_params\": 20,\n",
    "    \"value_clip\": 1.0,\n",
    "    \"max_grad_norm\": 0.5,\n",
    "    \"n_mini_batch\": 4,\n",
    "    \"rewards\": [-1,1,0], #[lose,win,not_done]\n",
    "    \"set_detect_anomaly\": True,\n",
    "    \"normlize_advantage\": True,\n",
    "\n",
    "}\n"
   ]
  },
  {
   "cell_type": "code",
   "execution_count": null,
   "metadata": {},
   "outputs": [],
   "source": [
    "trainer = Trainer(config=config,env=env,writer_path = writer_path)"
   ]
  },
  {
   "cell_type": "code",
   "execution_count": null,
   "metadata": {},
   "outputs": [],
   "source": [
    "%load_ext tensorboard\n",
    "%tensorboard --logdir /content/runs/"
   ]
  },
  {
   "cell_type": "code",
   "execution_count": null,
   "metadata": {},
   "outputs": [],
   "source": [
    "trainer.train()"
   ]
  }
 ],
 "metadata": {
  "kernelspec": {
   "display_name": "pytorchenv",
   "language": "python",
   "name": "python3"
  },
  "language_info": {
   "codemirror_mode": {
    "name": "ipython",
    "version": 3
   },
   "file_extension": ".py",
   "mimetype": "text/x-python",
   "name": "python",
   "nbconvert_exporter": "python",
   "pygments_lexer": "ipython3",
   "version": "3.9.16"
  },
  "orig_nbformat": 4
 },
 "nbformat": 4,
 "nbformat_minor": 2
}
