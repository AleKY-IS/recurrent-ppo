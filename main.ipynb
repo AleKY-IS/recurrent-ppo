{
  "cells": [
    {
      "cell_type": "markdown",
      "metadata": {
        "colab_type": "text",
        "id": "view-in-github"
      },
      "source": [
        "<a href=\"https://colab.research.google.com/github/datvodinh10/recurrent-ppo/blob/main/main.ipynb\" target=\"_parent\"><img src=\"https://colab.research.google.com/assets/colab-badge.svg\" alt=\"Open In Colab\"/></a>"
      ]
    },
    {
      "cell_type": "code",
      "execution_count": null,
      "metadata": {
        "id": "k51AOIg-pl18"
      },
      "outputs": [],
      "source": [
        "!lscpu | grep 'Model name'"
      ]
    },
    {
      "cell_type": "code",
      "execution_count": null,
      "metadata": {
        "id": "qJBtl-ODpl1_"
      },
      "outputs": [],
      "source": [
        "!git clone https://github.com/datvodinh10/recurrent-ppo.git"
      ]
    },
    {
      "cell_type": "code",
      "execution_count": null,
      "metadata": {
        "id": "stg5WyOipl2A"
      },
      "outputs": [],
      "source": [
        "%cd recurrent-ppo/ENV"
      ]
    },
    {
      "cell_type": "code",
      "execution_count": null,
      "metadata": {
        "id": "yHdtzdfHpl2B"
      },
      "outputs": [],
      "source": [
        "from model.trainer import *\n",
        "import env"
      ]
    },
    {
      "cell_type": "code",
      "execution_count": null,
      "metadata": {
        "id": "Iy2CGbHdpl2C"
      },
      "outputs": [],
      "source": [
        "game_name = \"Splendor_v3\"\n",
        "env.make(game_name)\n",
        "writer_path = f\"/content/runs/{game_name}/\""
      ]
    },
    {
      "cell_type": "code",
      "execution_count": null,
      "metadata": {
        "id": "_cbKxoi0pl2C"
      },
      "outputs": [],
      "source": [
        "env.getActionSize()"
      ]
    },
    {
      "cell_type": "code",
      "execution_count": null,
      "metadata": {
        "id": "ROPHD_yPpl2D"
      },
      "outputs": [],
      "source": [
        "max_eps_length = 200"
      ]
    },
    {
      "cell_type": "code",
      "execution_count": null,
      "metadata": {
        "id": "DUS_MDompl2D"
      },
      "outputs": [],
      "source": [
        "config = {\n",
        "    \"critic_coef\": 1,\n",
        "    \"entropy_coef\": 0.001,\n",
        "    \"num_epochs\": 2,\n",
        "    \"max_eps_length\":max_eps_length,\n",
        "    \"seq_length\":16,\n",
        "    \"hidden_size\":256,\n",
        "    \"embed_size\": 256,\n",
        "    \"lr\": 2.5e-4,\n",
        "    \"num_game_per_batch\":128,\n",
        "    \"gamma\":0.99,\n",
        "    \"gae_lambda\":0.95,\n",
        "    \"policy_kl_range\":0.0008,\n",
        "    \"policy_params\": 20,\n",
        "    \"value_clip\": 1.0,\n",
        "    \"max_grad_norm\": 0.5,\n",
        "    \"n_mini_batch\": 4,\n",
        "    \"rewards\": [-1,1,0], #[lose,win,not_done]\n",
        "    \"set_detect_anomaly\": True,\n",
        "    \"normalize_advantage\": False,\n",
        "\n",
        "}\n"
      ]
    },
    {
      "cell_type": "code",
      "execution_count": null,
      "metadata": {
        "id": "ciQF_7c0pl2E"
      },
      "outputs": [],
      "source": [
        "trainer = Trainer(config=config,env=env,writer_path = writer_path)"
      ]
    },
    {
      "cell_type": "code",
      "execution_count": null,
      "metadata": {
        "id": "SiwEBOzhpl2E"
      },
      "outputs": [],
      "source": [
        "%load_ext tensorboard\n",
        "%tensorboard --logdir /content/runs/"
      ]
    },
    {
      "cell_type": "code",
      "execution_count": null,
      "metadata": {
        "id": "y5BXnTfHpl2F"
      },
      "outputs": [],
      "source": [
        "trainer.train()"
      ]
    }
  ],
  "metadata": {
    "colab": {
      "include_colab_link": true,
      "provenance": []
    },
    "kernelspec": {
      "display_name": "pytorchenv",
      "language": "python",
      "name": "python3"
    },
    "language_info": {
      "codemirror_mode": {
        "name": "ipython",
        "version": 3
      },
      "file_extension": ".py",
      "mimetype": "text/x-python",
      "name": "python",
      "nbconvert_exporter": "python",
      "pygments_lexer": "ipython3",
      "version": "3.9.16"
    },
    "orig_nbformat": 4
  },
  "nbformat": 4,
  "nbformat_minor": 0
}
