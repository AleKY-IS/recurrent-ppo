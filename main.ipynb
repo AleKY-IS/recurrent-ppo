{
 "cells": [
  {
   "cell_type": "code",
   "execution_count": 1,
   "metadata": {},
   "outputs": [],
   "source": [
    "import torch\n",
    "import torch.nn as nn"
   ]
  },
  {
   "cell_type": "code",
   "execution_count": 4,
   "metadata": {},
   "outputs": [
    {
     "data": {
      "text/plain": [
       "OrderedDict([('weight_ih_l0',\n",
       "              tensor([[ 0.0347, -0.0121,  0.0371,  ...,  0.0350,  0.0330, -0.0410],\n",
       "                      [-0.0036,  0.0377,  0.0113,  ..., -0.0063,  0.0230, -0.0154],\n",
       "                      [-0.0399,  0.0184, -0.0208,  ..., -0.0327,  0.0436, -0.0063],\n",
       "                      ...,\n",
       "                      [-0.0089,  0.0012,  0.0325,  ...,  0.0225, -0.0401,  0.0268],\n",
       "                      [ 0.0249, -0.0166,  0.0325,  ..., -0.0277,  0.0402,  0.0343],\n",
       "                      [-0.0092, -0.0181,  0.0150,  ..., -0.0039, -0.0364,  0.0251]])),\n",
       "             ('weight_hh_l0',\n",
       "              tensor([[-0.0030, -0.0377, -0.0078,  ...,  0.0413,  0.0440, -0.0041],\n",
       "                      [-0.0007, -0.0378, -0.0372,  ...,  0.0415,  0.0037, -0.0153],\n",
       "                      [-0.0379, -0.0074,  0.0315,  ..., -0.0229, -0.0222,  0.0081],\n",
       "                      ...,\n",
       "                      [ 0.0215,  0.0225,  0.0276,  ...,  0.0018,  0.0141, -0.0224],\n",
       "                      [-0.0107,  0.0433, -0.0011,  ..., -0.0258, -0.0068, -0.0372],\n",
       "                      [-0.0058,  0.0022,  0.0138,  ..., -0.0323, -0.0319,  0.0138]])),\n",
       "             ('bias_ih_l0',\n",
       "              tensor([-0.0428,  0.0410,  0.0246,  ...,  0.0031,  0.0386, -0.0133])),\n",
       "             ('bias_hh_l0',\n",
       "              tensor([ 0.0174,  0.0202,  0.0030,  ..., -0.0229,  0.0150,  0.0359]))])"
      ]
     },
     "execution_count": 4,
     "metadata": {},
     "output_type": "execute_result"
    }
   ],
   "source": [
    "nn.LSTM(10,512)"
   ]
  },
  {
   "cell_type": "code",
   "execution_count": null,
   "metadata": {},
   "outputs": [],
   "source": []
  }
 ],
 "metadata": {
  "kernelspec": {
   "display_name": "pytorchenv",
   "language": "python",
   "name": "python3"
  },
  "language_info": {
   "codemirror_mode": {
    "name": "ipython",
    "version": 3
   },
   "file_extension": ".py",
   "mimetype": "text/x-python",
   "name": "python",
   "nbconvert_exporter": "python",
   "pygments_lexer": "ipython3",
   "version": "3.9.16"
  },
  "orig_nbformat": 4
 },
 "nbformat": 4,
 "nbformat_minor": 2
}
